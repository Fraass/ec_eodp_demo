{
 "cells": [
  {
   "cell_type": "markdown",
   "metadata": {
    "toc": true
   },
   "source": [
    "<h1>Table of Contents<span class=\"tocSkip\"></span></h1>\n",
    "<div class=\"toc\"><ul class=\"toc-item\"><li><span><a href=\"#Data-Cleaning-with-Pandas-and-Jupyter-Notebooks\" data-toc-modified-id=\"Data-Cleaning-with-Pandas-and-Jupyter-Notebooks-1\"><span class=\"toc-item-num\">1&nbsp;&nbsp;</span>Data Cleaning with Pandas and Jupyter Notebooks</a></span><ul class=\"toc-item\"><li><span><a href=\"#Author(s)\" data-toc-modified-id=\"Author(s)-1.1\"><span class=\"toc-item-num\">1.1&nbsp;&nbsp;</span>Author(s)</a></span></li><li><span><a href=\"#Purpose\" data-toc-modified-id=\"Purpose-1.2\"><span class=\"toc-item-num\">1.2&nbsp;&nbsp;</span>Purpose</a></span></li><li><span><a href=\"#Technical-contributions\" data-toc-modified-id=\"Technical-contributions-1.3\"><span class=\"toc-item-num\">1.3&nbsp;&nbsp;</span>Technical contributions</a></span></li><li><span><a href=\"#Methodology\" data-toc-modified-id=\"Methodology-1.4\"><span class=\"toc-item-num\">1.4&nbsp;&nbsp;</span>Methodology</a></span></li><li><span><a href=\"#Results\" data-toc-modified-id=\"Results-1.5\"><span class=\"toc-item-num\">1.5&nbsp;&nbsp;</span>Results</a></span></li><li><span><a href=\"#Funding\" data-toc-modified-id=\"Funding-1.6\"><span class=\"toc-item-num\">1.6&nbsp;&nbsp;</span>Funding</a></span></li><li><span><a href=\"#Keywords\" data-toc-modified-id=\"Keywords-1.7\"><span class=\"toc-item-num\">1.7&nbsp;&nbsp;</span>Keywords</a></span></li><li><span><a href=\"#Citation\" data-toc-modified-id=\"Citation-1.8\"><span class=\"toc-item-num\">1.8&nbsp;&nbsp;</span>Citation</a></span></li><li><span><a href=\"#Acknowledgements\" data-toc-modified-id=\"Acknowledgements-1.9\"><span class=\"toc-item-num\">1.9&nbsp;&nbsp;</span>Acknowledgements</a></span></li></ul></li><li><span><a href=\"#Setup\" data-toc-modified-id=\"Setup-2\"><span class=\"toc-item-num\">2&nbsp;&nbsp;</span>Setup</a></span><ul class=\"toc-item\"><li><span><a href=\"#Directory-structure\" data-toc-modified-id=\"Directory-structure-2.1\"><span class=\"toc-item-num\">2.1&nbsp;&nbsp;</span>Directory structure</a></span></li><li><span><a href=\"#Library-import\" data-toc-modified-id=\"Library-import-2.2\"><span class=\"toc-item-num\">2.2&nbsp;&nbsp;</span>Library import</a></span></li><li><span><a href=\"#Local-library-import\" data-toc-modified-id=\"Local-library-import-2.3\"><span class=\"toc-item-num\">2.3&nbsp;&nbsp;</span>Local library import</a></span></li><li><span><a href=\"#Set-file-path-variables\" data-toc-modified-id=\"Set-file-path-variables-2.4\"><span class=\"toc-item-num\">2.4&nbsp;&nbsp;</span>Set file path variables</a></span></li></ul></li><li><span><a href=\"#Best-practices-and-processing-notes\" data-toc-modified-id=\"Best-practices-and-processing-notes-3\"><span class=\"toc-item-num\">3&nbsp;&nbsp;</span>Best practices and processing notes</a></span><ul class=\"toc-item\"><li><span><a href=\"#Use-conda-to-manage-dependencies-and-virtual-environments\" data-toc-modified-id=\"Use-conda-to-manage-dependencies-and-virtual-environments-3.1\"><span class=\"toc-item-num\">3.1&nbsp;&nbsp;</span>Use conda to manage dependencies and virtual environments</a></span></li><li><span><a href=\"#Version-Control-/-Git\" data-toc-modified-id=\"Version-Control-/-Git-3.2\"><span class=\"toc-item-num\">3.2&nbsp;&nbsp;</span>Version Control / Git</a></span></li><li><span><a href=\"#Unit-testing\" data-toc-modified-id=\"Unit-testing-3.3\"><span class=\"toc-item-num\">3.3&nbsp;&nbsp;</span>Unit testing</a></span></li><li><span><a href=\"#Changes-to-data-files-are-done-in-code\" data-toc-modified-id=\"Changes-to-data-files-are-done-in-code-3.4\"><span class=\"toc-item-num\">3.4&nbsp;&nbsp;</span>Changes to data files are done in code</a></span></li><li><span><a href=\"#Read-files\" data-toc-modified-id=\"Read-files-3.5\"><span class=\"toc-item-num\">3.5&nbsp;&nbsp;</span>Read files</a></span><ul class=\"toc-item\"><li><span><a href=\"#Example\" data-toc-modified-id=\"Example-3.5.1\"><span class=\"toc-item-num\">3.5.1&nbsp;&nbsp;</span>Example</a></span></li></ul></li><li><span><a href=\"#Viewing-the-dataframe\" data-toc-modified-id=\"Viewing-the-dataframe-3.6\"><span class=\"toc-item-num\">3.6&nbsp;&nbsp;</span>Viewing the dataframe</a></span></li><li><span><a href=\"#Basic-cleanup-pattern\" data-toc-modified-id=\"Basic-cleanup-pattern-3.7\"><span class=\"toc-item-num\">3.7&nbsp;&nbsp;</span>Basic cleanup pattern</a></span></li><li><span><a href=\"#View-the-changed-files\" data-toc-modified-id=\"View-the-changed-files-3.8\"><span class=\"toc-item-num\">3.8&nbsp;&nbsp;</span>View the changed files</a></span></li></ul></li><li><span><a href=\"#Data-processing-and-analysis\" data-toc-modified-id=\"Data-processing-and-analysis-4\"><span class=\"toc-item-num\">4&nbsp;&nbsp;</span>Data processing and analysis</a></span><ul class=\"toc-item\"><li><span><a href=\"#Basic-file-cleanup\" data-toc-modified-id=\"Basic-file-cleanup-4.1\"><span class=\"toc-item-num\">4.1&nbsp;&nbsp;</span>Basic file cleanup</a></span><ul class=\"toc-item\"><li><span><a href=\"#Before-cleanup\" data-toc-modified-id=\"Before-cleanup-4.1.1\"><span class=\"toc-item-num\">4.1.1&nbsp;&nbsp;</span>Before cleanup</a></span></li><li><span><a href=\"#After-cleanup\" data-toc-modified-id=\"After-cleanup-4.1.2\"><span class=\"toc-item-num\">4.1.2&nbsp;&nbsp;</span>After cleanup</a></span></li><li><span><a href=\"#Clean-up-all-files-and-save-the-changes\" data-toc-modified-id=\"Clean-up-all-files-and-save-the-changes-4.1.3\"><span class=\"toc-item-num\">4.1.3&nbsp;&nbsp;</span>Clean up all files and save the changes</a></span></li></ul></li><li><span><a href=\"#Remove-leading-and-trailing-white-spaces\" data-toc-modified-id=\"Remove-leading-and-trailing-white-spaces-4.2\"><span class=\"toc-item-num\">4.2&nbsp;&nbsp;</span>Remove leading and trailing white spaces</a></span><ul class=\"toc-item\"><li><span><a href=\"#Before-cleanup\" data-toc-modified-id=\"Before-cleanup-4.2.1\"><span class=\"toc-item-num\">4.2.1&nbsp;&nbsp;</span>Before cleanup</a></span></li><li><span><a href=\"#After-cleanup\" data-toc-modified-id=\"After-cleanup-4.2.2\"><span class=\"toc-item-num\">4.2.2&nbsp;&nbsp;</span>After cleanup</a></span></li><li><span><a href=\"#Clean-up-all-files-and-save-the-changes\" data-toc-modified-id=\"Clean-up-all-files-and-save-the-changes-4.2.3\"><span class=\"toc-item-num\">4.2.3&nbsp;&nbsp;</span>Clean up all files and save the changes</a></span></li></ul></li><li><span><a href=\"#Normalizing-columns-names\" data-toc-modified-id=\"Normalizing-columns-names-4.3\"><span class=\"toc-item-num\">4.3&nbsp;&nbsp;</span>Normalizing columns names</a></span><ul class=\"toc-item\"><li><span><a href=\"#Get-all-unique-column-names\" data-toc-modified-id=\"Get-all-unique-column-names-4.3.1\"><span class=\"toc-item-num\">4.3.1&nbsp;&nbsp;</span>Get all unique column names</a></span></li><li><span><a href=\"#Create-taxa-and-non-taxa-files\" data-toc-modified-id=\"Create-taxa-and-non-taxa-files-4.3.2\"><span class=\"toc-item-num\">4.3.2&nbsp;&nbsp;</span>Create taxa and non-taxa files</a></span></li><li><span><a href=\"#Normalize-headers\" data-toc-modified-id=\"Normalize-headers-4.3.3\"><span class=\"toc-item-num\">4.3.3&nbsp;&nbsp;</span>Normalize headers</a></span></li><li><span><a href=\"#Before-changing-headers\" data-toc-modified-id=\"Before-changing-headers-4.3.4\"><span class=\"toc-item-num\">4.3.4&nbsp;&nbsp;</span>Before changing headers</a></span></li><li><span><a href=\"#After-changing-headers\" data-toc-modified-id=\"After-changing-headers-4.3.5\"><span class=\"toc-item-num\">4.3.5&nbsp;&nbsp;</span>After changing headers</a></span></li><li><span><a href=\"#Change-headers-for-all-files-and-save-the-changes\" data-toc-modified-id=\"Change-headers-for-all-files-and-save-the-changes-4.3.6\"><span class=\"toc-item-num\">4.3.6&nbsp;&nbsp;</span>Change headers for all files and save the changes</a></span></li></ul></li><li><span><a href=\"#Turn-one-column-into-multiple-columns\" data-toc-modified-id=\"Turn-one-column-into-multiple-columns-4.4\"><span class=\"toc-item-num\">4.4&nbsp;&nbsp;</span>Turn one column into multiple columns</a></span><ul class=\"toc-item\"><li><span><a href=\"#Before-cleanup\" data-toc-modified-id=\"Before-cleanup-4.4.1\"><span class=\"toc-item-num\">4.4.1&nbsp;&nbsp;</span>Before cleanup</a></span></li><li><span><a href=\"#After-cleanup\" data-toc-modified-id=\"After-cleanup-4.4.2\"><span class=\"toc-item-num\">4.4.2&nbsp;&nbsp;</span>After cleanup</a></span></li><li><span><a href=\"#Clean-up-all-files-and-save-the-changes\" data-toc-modified-id=\"Clean-up-all-files-and-save-the-changes-4.4.3\"><span class=\"toc-item-num\">4.4.3&nbsp;&nbsp;</span>Clean up all files and save the changes</a></span></li></ul></li><li><span><a href=\"#Clean-up-row-values\" data-toc-modified-id=\"Clean-up-row-values-4.5\"><span class=\"toc-item-num\">4.5&nbsp;&nbsp;</span>Clean up row values</a></span><ul class=\"toc-item\"><li><span><a href=\"#Before-cleanup\" data-toc-modified-id=\"Before-cleanup-4.5.1\"><span class=\"toc-item-num\">4.5.1&nbsp;&nbsp;</span>Before cleanup</a></span></li><li><span><a href=\"#After-cleanup\" data-toc-modified-id=\"After-cleanup-4.5.2\"><span class=\"toc-item-num\">4.5.2&nbsp;&nbsp;</span>After cleanup</a></span></li><li><span><a href=\"#Clean-up-all-files-and-save-the-changes\" data-toc-modified-id=\"Clean-up-all-files-and-save-the-changes-4.5.3\"><span class=\"toc-item-num\">4.5.3&nbsp;&nbsp;</span>Clean up all files and save the changes</a></span></li></ul></li><li><span><a href=\"#Check-if-required-columns-exists\" data-toc-modified-id=\"Check-if-required-columns-exists-4.6\"><span class=\"toc-item-num\">4.6&nbsp;&nbsp;</span>Check if required columns exists</a></span></li></ul></li><li><span><a href=\"#References\" data-toc-modified-id=\"References-5\"><span class=\"toc-item-num\">5&nbsp;&nbsp;</span>References</a></span></li></ul></div>"
   ]
  },
  {
   "cell_type": "markdown",
   "metadata": {},
   "source": [
    "# Data Cleaning with Pandas and Jupyter Notebooks"
   ]
  },
  {
   "cell_type": "markdown",
   "metadata": {
    "tags": []
   },
   "source": [
    "## Author(s)\n",
    "\n",
    "- Author1 = {\"name\": \"Wai-Yin Kwan\", \"affiliation\": \"Whirl-i-Gig\", \"email\": \"wyk@whirl-i-gig.com\", \"orcid\": \"0000-0001-6113-0210\"}\n"
   ]
  },
  {
   "cell_type": "markdown",
   "metadata": {},
   "source": [
    "<h1>Table of Contents<span class=\"tocSkip\"></span></h1>\n",
    "<div class=\"toc\"><ul class=\"toc-item\"><li><span><a href=\"#Data-Cleaning-with-Pandas-and-Jupyter-Notebooks\" data-toc-modified-id=\"Data-Cleaning-with-Pandas-and-Jupyter-Notebooks-1\"><span class=\"toc-item-num\">1&nbsp;&nbsp;</span>Data Cleaning with Pandas and Jupyter Notebooks</a></span><ul class=\"toc-item\"><li><span><a href=\"#Author(s)\" data-toc-modified-id=\"Author(s)-1.1\"><span class=\"toc-item-num\">1.1&nbsp;&nbsp;</span>Author(s)</a></span></li><li><span><a href=\"#Purpose\" data-toc-modified-id=\"Purpose-1.2\"><span class=\"toc-item-num\">1.2&nbsp;&nbsp;</span>Purpose</a></span></li><li><span><a href=\"#Technical-contributions\" data-toc-modified-id=\"Technical-contributions-1.3\"><span class=\"toc-item-num\">1.3&nbsp;&nbsp;</span>Technical contributions</a></span></li><li><span><a href=\"#Methodology\" data-toc-modified-id=\"Methodology-1.4\"><span class=\"toc-item-num\">1.4&nbsp;&nbsp;</span>Methodology</a></span></li><li><span><a href=\"#Results\" data-toc-modified-id=\"Results-1.5\"><span class=\"toc-item-num\">1.5&nbsp;&nbsp;</span>Results</a></span></li><li><span><a href=\"#Funding\" data-toc-modified-id=\"Funding-1.6\"><span class=\"toc-item-num\">1.6&nbsp;&nbsp;</span>Funding</a></span></li><li><span><a href=\"#Keywords\" data-toc-modified-id=\"Keywords-1.7\"><span class=\"toc-item-num\">1.7&nbsp;&nbsp;</span>Keywords</a></span></li><li><span><a href=\"#Citation\" data-toc-modified-id=\"Citation-1.8\"><span class=\"toc-item-num\">1.8&nbsp;&nbsp;</span>Citation</a></span></li><li><span><a href=\"#Acknowledgements\" data-toc-modified-id=\"Acknowledgements-1.9\"><span class=\"toc-item-num\">1.9&nbsp;&nbsp;</span>Acknowledgements</a></span></li></ul></li><li><span><a href=\"#Setup\" data-toc-modified-id=\"Setup-2\"><span class=\"toc-item-num\">2&nbsp;&nbsp;</span>Setup</a></span><ul class=\"toc-item\"><li><span><a href=\"#Directory-structure\" data-toc-modified-id=\"Directory-structure-2.1\"><span class=\"toc-item-num\">2.1&nbsp;&nbsp;</span>Directory structure</a></span></li><li><span><a href=\"#Library-import\" data-toc-modified-id=\"Library-import-2.2\"><span class=\"toc-item-num\">2.2&nbsp;&nbsp;</span>Library import</a></span></li><li><span><a href=\"#Local-library-import\" data-toc-modified-id=\"Local-library-import-2.3\"><span class=\"toc-item-num\">2.3&nbsp;&nbsp;</span>Local library import</a></span></li><li><span><a href=\"#Set-file-path-variables\" data-toc-modified-id=\"Set-file-path-variables-2.4\"><span class=\"toc-item-num\">2.4&nbsp;&nbsp;</span>Set file path variables</a></span></li></ul></li><li><span><a href=\"#Best-practices-and-processing-notes\" data-toc-modified-id=\"Best-practices-and-processing-notes-3\"><span class=\"toc-item-num\">3&nbsp;&nbsp;</span>Best practices and processing notes</a></span><ul class=\"toc-item\"><li><span><a href=\"#Use-conda-to-manage-dependencies-and-virtual-environments\" data-toc-modified-id=\"Use-conda-to-manage-dependencies-and-virtual-environments-3.1\"><span class=\"toc-item-num\">3.1&nbsp;&nbsp;</span>Use conda to manage dependencies and virtual environments</a></span></li><li><span><a href=\"#Version-Control-/-Git\" data-toc-modified-id=\"Version-Control-/-Git-3.2\"><span class=\"toc-item-num\">3.2&nbsp;&nbsp;</span>Version Control / Git</a></span></li><li><span><a href=\"#Unit-testing\" data-toc-modified-id=\"Unit-testing-3.3\"><span class=\"toc-item-num\">3.3&nbsp;&nbsp;</span>Unit testing</a></span></li><li><span><a href=\"#Changes-to-data-files-are-done-in-code\" data-toc-modified-id=\"Changes-to-data-files-are-done-in-code-3.4\"><span class=\"toc-item-num\">3.4&nbsp;&nbsp;</span>Changes to data files are done in code</a></span></li><li><span><a href=\"#Read-files\" data-toc-modified-id=\"Read-files-3.5\"><span class=\"toc-item-num\">3.5&nbsp;&nbsp;</span>Read files</a></span><ul class=\"toc-item\"><li><span><a href=\"#Example\" data-toc-modified-id=\"Example-3.5.1\"><span class=\"toc-item-num\">3.5.1&nbsp;&nbsp;</span>Example</a></span></li></ul></li><li><span><a href=\"#Viewing-the-dataframe\" data-toc-modified-id=\"Viewing-the-dataframe-3.6\"><span class=\"toc-item-num\">3.6&nbsp;&nbsp;</span>Viewing the dataframe</a></span></li><li><span><a href=\"#Basic-cleanup-pattern\" data-toc-modified-id=\"Basic-cleanup-pattern-3.7\"><span class=\"toc-item-num\">3.7&nbsp;&nbsp;</span>Basic cleanup pattern</a></span></li><li><span><a href=\"#View-the-changed-files\" data-toc-modified-id=\"View-the-changed-files-3.8\"><span class=\"toc-item-num\">3.8&nbsp;&nbsp;</span>View the changed files</a></span></li></ul></li><li><span><a href=\"#Data-processing-and-analysis\" data-toc-modified-id=\"Data-processing-and-analysis-4\"><span class=\"toc-item-num\">4&nbsp;&nbsp;</span>Data processing and analysis</a></span><ul class=\"toc-item\"><li><span><a href=\"#Basic-file-cleanup\" data-toc-modified-id=\"Basic-file-cleanup-4.1\"><span class=\"toc-item-num\">4.1&nbsp;&nbsp;</span>Basic file cleanup</a></span><ul class=\"toc-item\"><li><span><a href=\"#Before-cleanup\" data-toc-modified-id=\"Before-cleanup-4.1.1\"><span class=\"toc-item-num\">4.1.1&nbsp;&nbsp;</span>Before cleanup</a></span></li><li><span><a href=\"#After-cleanup\" data-toc-modified-id=\"After-cleanup-4.1.2\"><span class=\"toc-item-num\">4.1.2&nbsp;&nbsp;</span>After cleanup</a></span></li><li><span><a href=\"#Clean-up-all-files-and-save-the-changes\" data-toc-modified-id=\"Clean-up-all-files-and-save-the-changes-4.1.3\"><span class=\"toc-item-num\">4.1.3&nbsp;&nbsp;</span>Clean up all files and save the changes</a></span></li></ul></li><li><span><a href=\"#Remove-leading-and-trailing-white-spaces\" data-toc-modified-id=\"Remove-leading-and-trailing-white-spaces-4.2\"><span class=\"toc-item-num\">4.2&nbsp;&nbsp;</span>Remove leading and trailing white spaces</a></span><ul class=\"toc-item\"><li><span><a href=\"#Before-cleanup\" data-toc-modified-id=\"Before-cleanup-4.2.1\"><span class=\"toc-item-num\">4.2.1&nbsp;&nbsp;</span>Before cleanup</a></span></li><li><span><a href=\"#After-cleanup\" data-toc-modified-id=\"After-cleanup-4.2.2\"><span class=\"toc-item-num\">4.2.2&nbsp;&nbsp;</span>After cleanup</a></span></li><li><span><a href=\"#Clean-up-all-files-and-save-the-changes\" data-toc-modified-id=\"Clean-up-all-files-and-save-the-changes-4.2.3\"><span class=\"toc-item-num\">4.2.3&nbsp;&nbsp;</span>Clean up all files and save the changes</a></span></li></ul></li><li><span><a href=\"#Normalizing-columns-names\" data-toc-modified-id=\"Normalizing-columns-names-4.3\"><span class=\"toc-item-num\">4.3&nbsp;&nbsp;</span>Normalizing columns names</a></span><ul class=\"toc-item\"><li><span><a href=\"#Get-all-unique-column-names\" data-toc-modified-id=\"Get-all-unique-column-names-4.3.1\"><span class=\"toc-item-num\">4.3.1&nbsp;&nbsp;</span>Get all unique column names</a></span></li><li><span><a href=\"#Create-taxa-and-non-taxa-files\" data-toc-modified-id=\"Create-taxa-and-non-taxa-files-4.3.2\"><span class=\"toc-item-num\">4.3.2&nbsp;&nbsp;</span>Create taxa and non-taxa files</a></span></li><li><span><a href=\"#Normalize-headers\" data-toc-modified-id=\"Normalize-headers-4.3.3\"><span class=\"toc-item-num\">4.3.3&nbsp;&nbsp;</span>Normalize headers</a></span></li><li><span><a href=\"#Before-changing-headers\" data-toc-modified-id=\"Before-changing-headers-4.3.4\"><span class=\"toc-item-num\">4.3.4&nbsp;&nbsp;</span>Before changing headers</a></span></li><li><span><a href=\"#After-changing-headers\" data-toc-modified-id=\"After-changing-headers-4.3.5\"><span class=\"toc-item-num\">4.3.5&nbsp;&nbsp;</span>After changing headers</a></span></li><li><span><a href=\"#Change-headers-for-all-files-and-save-the-changes\" data-toc-modified-id=\"Change-headers-for-all-files-and-save-the-changes-4.3.6\"><span class=\"toc-item-num\">4.3.6&nbsp;&nbsp;</span>Change headers for all files and save the changes</a></span></li></ul></li><li><span><a href=\"#Turn-one-column-into-multiple-columns\" data-toc-modified-id=\"Turn-one-column-into-multiple-columns-4.4\"><span class=\"toc-item-num\">4.4&nbsp;&nbsp;</span>Turn one column into multiple columns</a></span><ul class=\"toc-item\"><li><span><a href=\"#Before-cleanup\" data-toc-modified-id=\"Before-cleanup-4.4.1\"><span class=\"toc-item-num\">4.4.1&nbsp;&nbsp;</span>Before cleanup</a></span></li><li><span><a href=\"#After-cleanup\" data-toc-modified-id=\"After-cleanup-4.4.2\"><span class=\"toc-item-num\">4.4.2&nbsp;&nbsp;</span>After cleanup</a></span></li><li><span><a href=\"#Clean-up-all-files-and-save-the-changes\" data-toc-modified-id=\"Clean-up-all-files-and-save-the-changes-4.4.3\"><span class=\"toc-item-num\">4.4.3&nbsp;&nbsp;</span>Clean up all files and save the changes</a></span></li></ul></li><li><span><a href=\"#Clean-up-row-values\" data-toc-modified-id=\"Clean-up-row-values-4.5\"><span class=\"toc-item-num\">4.5&nbsp;&nbsp;</span>Clean up row values</a></span><ul class=\"toc-item\"><li><span><a href=\"#Before-cleanup\" data-toc-modified-id=\"Before-cleanup-4.5.1\"><span class=\"toc-item-num\">4.5.1&nbsp;&nbsp;</span>Before cleanup</a></span></li><li><span><a href=\"#After-cleanup\" data-toc-modified-id=\"After-cleanup-4.5.2\"><span class=\"toc-item-num\">4.5.2&nbsp;&nbsp;</span>After cleanup</a></span></li><li><span><a href=\"#Clean-up-all-files-and-save-the-changes\" data-toc-modified-id=\"Clean-up-all-files-and-save-the-changes-4.5.3\"><span class=\"toc-item-num\">4.5.3&nbsp;&nbsp;</span>Clean up all files and save the changes</a></span></li></ul></li><li><span><a href=\"#Check-if-required-columns-exists\" data-toc-modified-id=\"Check-if-required-columns-exists-4.6\"><span class=\"toc-item-num\">4.6&nbsp;&nbsp;</span>Check if required columns exists</a></span></li></ul></li><li><span><a href=\"#References\" data-toc-modified-id=\"References-5\"><span class=\"toc-item-num\">5&nbsp;&nbsp;</span>References</a></span></li></ul></div>"
   ]
  },
  {
   "cell_type": "markdown",
   "metadata": {
    "jp-MarkdownHeadingCollapsed": true,
    "tags": []
   },
   "source": [
    "## Purpose\n",
    "\n",
    "Since the 1960s, the International Ocean Discovery Program (IODP) and its predecessors have recovered sediments cores from oceans around world. The cores contain a wide variety of planktic and benthic microorganisms fossils. Challenges to using scientific ocean drilling (SOD) data include: datasets are stored in different databases with different formats, the databases have limited search capabilities, and no one database has all the SOD data. \n",
    "\n",
    "The [extending Ocean Drilling Pursuits (eODP)](https://eodp.github.io/) project aims to produce a standardized and searchable dataset of SOD fossils. This notebook demonstrates how the eODP uses Jupyter notebooks to clean and standardize 50+ years of SOD data. This notebook is developed for Python 3.8+ and Jupyter Lab.\n",
    "\n",
    "\n",
    "## Technical contributions\n",
    "\n",
    "Demonstration of how to create a reproducible data cleaning workflow using Git, unit testing, directory organization, and modular code.\n",
    "\n",
    "\n",
    "## Methodology\n",
    "For eODP, we are cleaning and standardizing over 10,000 CSVs of ocean core data. For this notebook, we are cleaning just 10 files. \n",
    "\n",
    "For each data cleaning step we created: separate sections in this notebook, data cleaning functions in `scripts/normalize_data.py`, and unit tests in `test/test_normalize_data.py`\n",
    "\n",
    "## Results\n",
    "\n",
    "By making the raw data, processed data, and data cleaning code available, we hope to give ocean core drilling researchers the ability review our data cleaning process and customize the data cleaning steps if so desired. \n",
    "\n",
    "## Funding\n",
    "\n",
    "- Award1 = {\"agency\": \"US National Science Foundation\", \"award_code\": \"1928362\", \"award_URL\": \"https://www.nsf.gov/awardsearch/showAward?AWD_ID=1928362 \"}\n",
    " \n",
    " \n",
    "## Keywords\n",
    "Include up to 5 keywords, using the template below.\n",
    "\n",
    "keywords=[\"data cleaning\", \"reproducibility\", \"version control\", \"testing\"]\n",
    "\n",
    "## Citation\n",
    "\n",
    "Wai-Yin Kwan, 2021. Data Cleaning with Pandas and Jupyter Notebooks. Accessed 5/30/2022 at https://github.com/wykhuh/ec_eodp_demo\n",
    "\n",
    "\n",
    "\n",
    "## Acknowledgements \n",
    "\n",
    "The template is licensed under a <a href=\"http://creativecommons.org/licenses/by/4.0/\">Creative Commons Attribution 4.0 International License.</a>"
   ]
  },
  {
   "cell_type": "markdown",
   "metadata": {
    "tags": []
   },
   "source": [
    "# Setup"
   ]
  },
  {
   "cell_type": "markdown",
   "metadata": {},
   "source": [
    "## Directory structure"
   ]
  },
  {
   "cell_type": "markdown",
   "metadata": {},
   "source": [
    "- notebooks: Jupyter notebooks\n",
    "- processed_data: processed data files\n",
    "- raw_data: raw, unprocessed data files\n",
    "- scripts: custom data cleaning scripts \n",
    "- tests: unit tests written in pytest"
   ]
  },
  {
   "cell_type": "markdown",
   "metadata": {},
   "source": [
    "## Library import"
   ]
  },
  {
   "cell_type": "code",
   "execution_count": null,
   "metadata": {},
   "outputs": [],
   "source": [
    "# Data manipulation\n",
    "import pandas as pd\n",
    "\n",
    "# handle file system\n",
    "from pathlib import Path "
   ]
  },
  {
   "cell_type": "markdown",
   "metadata": {},
   "source": [
    "## Local library import\n"
   ]
  },
  {
   "cell_type": "code",
   "execution_count": null,
   "metadata": {},
   "outputs": [],
   "source": [
    "# Include local library paths\n",
    "import sys\n",
    "sys.path.append(str(Path.cwd().parent))\n",
    "\n",
    "# Import local libraries\n",
    "from scripts.normalize_data import (\n",
    "    normalize_columns, \n",
    "    remove_bracket_text,\n",
    "    remove_whitespace,\n",
    "    normalize_expedition_section_cols,\n",
    "    print_df\n",
    ")"
   ]
  },
  {
   "cell_type": "markdown",
   "metadata": {},
   "source": [
    "## Set file path variables\n",
    "\n",
    "We store the file paths as variables so that can access the paths in multiple data cleaning steps."
   ]
  },
  {
   "cell_type": "code",
   "execution_count": null,
   "metadata": {},
   "outputs": [],
   "source": [
    "normalized_nontaxa_path = Path('..', 'processed_data', 'normalized_nontaxa_list.csv')\n",
    "normalized_taxa_path = Path('..', 'processed_data',  'normalized_taxa_list.csv')\n",
    "\n",
    "taxa_list_path = Path('..', 'processed_data', 'drafts', 'taxa_list.csv')\n",
    "nontaxa_list_path = Path('..', 'processed_data', 'drafts', 'nontaxa_list.csv')\n",
    "\n",
    "\n",
    "# Use `Path` and `rglob` to get all the CSVs in `clean_data/taxa` directory.\n",
    "paths = list(Path('..', 'processed_data', 'clean_data', 'taxa').rglob('*.csv'))\n",
    "len(paths)"
   ]
  },
  {
   "cell_type": "markdown",
   "metadata": {
    "tags": []
   },
   "source": [
    "# Best practices and processing notes"
   ]
  },
  {
   "cell_type": "markdown",
   "metadata": {},
   "source": [
    "## Use conda to manage dependencies and virtual environments"
   ]
  },
  {
   "cell_type": "markdown",
   "metadata": {},
   "source": [
    "The package versions are stored environmental.yml so that when other people run the code, they will install the same packages.\n",
    "\n",
    "We use virtual environments to avoid dependency conflicts with other projects."
   ]
  },
  {
   "cell_type": "markdown",
   "metadata": {
    "tags": []
   },
   "source": [
    "## Version Control / Git\n",
    "\n",
    "We use git to track changes in the code and data files.\n",
    "\n",
    "We found it helpful to make a commit after each data cleaning step in order to make it easier keep track of the data cleaning steps, and undo the certain steps if needed. To undo a data cleaning step that hasn't been committed, use `git restore`. To undo a data cleaning step that has been committed, use `git revert`, `git reset --hard`, or `get rebase`."
   ]
  },
  {
   "cell_type": "markdown",
   "metadata": {
    "tags": []
   },
   "source": [
    "## Unit testing\n",
    "\n",
    "We wrote unit tests for the data cleaning functions in order to reduce the chances that our data cleaning steps would alter the data files in unexpected ways. The tests are in the `./tests` directory. We used pytest for the unit tests.\n",
    "\n",
    "Since we use the same data cleaning functions in multiple notebooks, we created a separate tests directory instead of putting the tests inside the notebooks.\n",
    "\n",
    "To run the tests, use `pytest` from the command line.\n",
    "\n",
    "![screenshot pytest results](images/pytest.png)"
   ]
  },
  {
   "cell_type": "markdown",
   "metadata": {
    "jp-MarkdownHeadingCollapsed": true,
    "tags": []
   },
   "source": [
    "## Changes to data files are done in code\n",
    "\n",
    "In order to make the data cleaning process reproducible, all the changes to the processed data files are done in code. We do not manually edit the processed files. "
   ]
  },
  {
   "cell_type": "markdown",
   "metadata": {},
   "source": [
    "## Read files"
   ]
  },
  {
   "cell_type": "markdown",
   "metadata": {},
   "source": [
    "We used `pandas.read_csv(path, dtype=str)` to read csv and treat all columns as strings. The reason why we used `dtype=str` is because `pandas.read_csv(path)`  will automatically convert the columns to strings, integers, floats, dates. This automatic conversion can change values in unexpected ways such as converting a column with integers and NaN into floats and NaN. "
   ]
  },
  {
   "cell_type": "markdown",
   "metadata": {},
   "source": [
    "### Example"
   ]
  },
  {
   "cell_type": "code",
   "execution_count": null,
   "metadata": {},
   "outputs": [],
   "source": [
    "path = paths[4]"
   ]
  },
  {
   "cell_type": "markdown",
   "metadata": {},
   "source": [
    "We use `dtype=str` so that the column has correct integer values."
   ]
  },
  {
   "cell_type": "code",
   "execution_count": null,
   "metadata": {},
   "outputs": [],
   "source": [
    "df = pd.read_csv(path, nrows=5 , dtype=str)\n",
    "df['Pulleniatina coiling (dextral)']"
   ]
  },
  {
   "cell_type": "markdown",
   "metadata": {},
   "source": [
    "If we don't include `dtype`, the columns has incorrect float values. pandas automatically converts the integers to floats because of NaNs."
   ]
  },
  {
   "cell_type": "code",
   "execution_count": null,
   "metadata": {},
   "outputs": [],
   "source": [
    "df = pd.read_csv(path, nrows=5)\n",
    "df['Pulleniatina coiling (dextral)']"
   ]
  },
  {
   "cell_type": "markdown",
   "metadata": {},
   "source": [
    "## Viewing the dataframe"
   ]
  },
  {
   "cell_type": "markdown",
   "metadata": {},
   "source": [
    "One thing that we found helpful when data cleaning is to view the dataframe and the total number of rows and columns to check the changes in the dataframe.\n",
    "\n",
    "`print_df` is a custom function that calls `pd.DataFrame.shape` and `pd.DataFrame.head()`"
   ]
  },
  {
   "cell_type": "code",
   "execution_count": null,
   "metadata": {},
   "outputs": [],
   "source": [
    "path = paths[4]\n",
    "df = pd.read_csv(path, dtype=str)\n",
    "\n",
    "print_df(df)"
   ]
  },
  {
   "cell_type": "markdown",
   "metadata": {},
   "source": [
    "## Basic cleanup pattern\n",
    "\n",
    "For each data cleanup step, we loop over all the files, create a dataframe for each file, execute some code to clean the data, and then save the revised file."
   ]
  },
  {
   "cell_type": "markdown",
   "metadata": {},
   "source": [
    "for path in paths:\n",
    "    df = pd.read_csv(path, dtype=str)\n",
    "    \n",
    "    # code to change file   \n",
    "    \n",
    "    df.to_csv(path, index=False)"
   ]
  },
  {
   "cell_type": "markdown",
   "metadata": {
    "tags": []
   },
   "source": [
    "## View the changed files\n",
    "\n",
    "After each cleanup step, we use the desktop application [Github Desktop](https://desktop.github.com/) to spot check the changes to the files. \n",
    "\n",
    "If the files look ok, make a commit. If the data cleaning step did not act as expected, undo the changes in the data files using `git restore`, update the data cleaning function and the tests, and rerun the data cleaning step. \n",
    "\n",
    "The screenshot below shows the changes to `Micropal_CSV_1/318_U1355A_Planktic_Forams.csv`"
   ]
  },
  {
   "cell_type": "markdown",
   "metadata": {},
   "source": [
    "![screenshot of Github Desktop showing the changed data files](images/git_diff.png)\n"
   ]
  },
  {
   "cell_type": "markdown",
   "metadata": {},
   "source": [
    "# Data processing and analysis\n",
    "\n",
    "There are many steps needed to clean up the data files. We created separate data cleaning functions and separate sections in the notebooks for each step. "
   ]
  },
  {
   "cell_type": "markdown",
   "metadata": {},
   "source": [
    "## Basic file cleanup\n",
    "\n",
    "pandas has methods that can be used to do some basic file cleanup.\n",
    "  \n",
    "- delete dataframe column if all values are NA  \n",
    "  dropna(axis='columns', how='all', inplace=True) - [pandas.DataFrame.dropna](https://pandas.pydata.org/pandas-docs/stable/reference/api/pandas.DataFrame.dropna.html)\n",
    "  \n",
    "\n",
    "- delete dataframe row if all values are NA  \n",
    "  dropna(axis='index', how='all', inplace=True) - [pandas.DataFrame.dropna](https://pandas.pydata.org/pandas-docs/stable/reference/api/pandas.DataFrame.dropna.html)\n",
    "  \n",
    "  \n",
    "- remove duplicate rows in dataframe  \n",
    "  drop_duplicates(inplace=True) - [pandas.DataFrame.drop_duplicates](https://pandas.pydata.org/pandas-docs/stable/reference/api/pandas.DataFrame.drop_duplicates.html)\n"
   ]
  },
  {
   "cell_type": "markdown",
   "metadata": {},
   "source": [
    "### Before cleanup\n",
    "\n",
    "The file paths[7] has 20 rows and 41 columns."
   ]
  },
  {
   "cell_type": "code",
   "execution_count": null,
   "metadata": {},
   "outputs": [],
   "source": [
    "path = paths[7]\n",
    "\n",
    "df = pd.read_csv(path, dtype=str)\n",
    "print_df(df)"
   ]
  },
  {
   "cell_type": "markdown",
   "metadata": {},
   "source": [
    "### After cleanup \n",
    "\n",
    "The number of rows changed from 20 to 17, and the number of columns changed from 41 to 26."
   ]
  },
  {
   "cell_type": "code",
   "execution_count": null,
   "metadata": {},
   "outputs": [],
   "source": [
    "df.dropna(axis='columns', how='all', inplace=True)  \n",
    "df.dropna(axis='index', how='all', inplace=True)\n",
    "df.drop_duplicates(inplace=True)\n",
    "\n",
    "print_df(df)"
   ]
  },
  {
   "cell_type": "markdown",
   "metadata": {},
   "source": [
    "### Clean up all files and save the changes"
   ]
  },
  {
   "cell_type": "code",
   "execution_count": null,
   "metadata": {},
   "outputs": [],
   "source": [
    "for path in paths:\n",
    "    df = pd.read_csv(path, dtype=str)\n",
    "    \n",
    "    df.dropna(axis='columns', how='all', inplace=True)  \n",
    "    df.dropna(axis='index', how='all', inplace=True)\n",
    "    df.drop_duplicates(inplace=True)\n",
    "    \n",
    "    df.to_csv(path, index=False)"
   ]
  },
  {
   "cell_type": "markdown",
   "metadata": {},
   "source": [
    "## Remove leading and trailing white spaces\n",
    "\n",
    "We created a custom function `remove_whitespace` to remove all leading and trailing white spaces from both the headers and row values. \n",
    "\n",
    "Since we wanted to remove white spaces from both the headers and row values, we used `read_csv(header=None)` and `to_csv(header=False)` so that pandas treat the first row like any other row."
   ]
  },
  {
   "cell_type": "markdown",
   "metadata": {},
   "source": [
    "### Before cleanup"
   ]
  },
  {
   "cell_type": "code",
   "execution_count": null,
   "metadata": {},
   "outputs": [],
   "source": [
    "df = pd.read_csv(paths[0], dtype=str, header=None)\n",
    "\n",
    "print_df(df)"
   ]
  },
  {
   "cell_type": "markdown",
   "metadata": {},
   "source": [
    "### After cleanup "
   ]
  },
  {
   "cell_type": "code",
   "execution_count": null,
   "metadata": {},
   "outputs": [],
   "source": [
    "df = pd.read_csv(paths[0], dtype=str, header=None)\n",
    "\n",
    "remove_whitespace(df)\n",
    "\n",
    "print_df(df)"
   ]
  },
  {
   "cell_type": "markdown",
   "metadata": {},
   "source": [
    "### Clean up all files and save the changes\n",
    "\n",
    "Remove white space from all files\n"
   ]
  },
  {
   "cell_type": "code",
   "execution_count": null,
   "metadata": {},
   "outputs": [],
   "source": [
    "for path in paths:\n",
    "    df = pd.read_csv(path, dtype=str, header=None)\n",
    "    \n",
    "    remove_whitespace(df)\n",
    "    \n",
    "    df.to_csv(path, index=False, header=False)"
   ]
  },
  {
   "cell_type": "markdown",
   "metadata": {},
   "source": [
    "## Normalizing columns names\n",
    "\n",
    "For the ocean core drilling expedition 312 and later, the researchers for each expedition determined the format of their data files. This resulted in a lot of variability in the file columns. We had to standardized the columns names and update data files. For instance, 'Bottom [cm]' and 'Bottom[cm] [cm]' in the raw fils are 'Bottom [cm]' in the processed files.\n",
    "\n",
    "Another challenge with parsing the files is that we had to standardized the taxa names. Issues include misspelling, taxa names change over time, inconsistent ways of treating rank modifiers."
   ]
  },
  {
   "cell_type": "markdown",
   "metadata": {},
   "source": [
    "### Get all unique column names\n",
    "\n",
    "In order to normalize the header header names, we needed to get all the headers for all the files. \n",
    "\n",
    "Since we only need the header names, use `nrow=0` with `read_csv`. "
   ]
  },
  {
   "cell_type": "code",
   "execution_count": null,
   "metadata": {},
   "outputs": [],
   "source": [
    "pd.read_csv(paths[1], dtype=str, nrows=0)\n"
   ]
  },
  {
   "cell_type": "markdown",
   "metadata": {},
   "source": [
    "We used `pandas.DataFrame.columns()` and python `set` to get all the unique columns fo all the files."
   ]
  },
  {
   "cell_type": "code",
   "execution_count": null,
   "metadata": {},
   "outputs": [],
   "source": [
    "all_columns = set()\n",
    "for path in paths:\n",
    "    df = pd.read_csv(path, dtype=str, nrows=0)\n",
    "    \n",
    "    all_columns.update(df.columns)\n",
    "    \n",
    "len(all_columns)"
   ]
  },
  {
   "cell_type": "code",
   "execution_count": null,
   "metadata": {},
   "outputs": [],
   "source": [
    "all_columns"
   ]
  },
  {
   "cell_type": "markdown",
   "metadata": {},
   "source": [
    "We then manually separate taxa names from other headers so that we could do some more processing on the taxa."
   ]
  },
  {
   "cell_type": "code",
   "execution_count": null,
   "metadata": {},
   "outputs": [],
   "source": [
    "taxa_columns = {\n",
    " 'Candeina nitida',\n",
    " 'Dentoglobigerina altispira _T_ _PL5',\n",
    " 'Dentoglobigerina altispira _T_ _PL5_',\n",
    " 'Dextral:Sinistral _P. obliquiloculata_',\n",
    " 'Dextral:Sinistral _P. praecursor_',\n",
    " 'Dextral:Sinistral _P. primalis_',\n",
    " 'Fragmentation rank [auto-pop]',\n",
    " 'Genus/species (upper zone)',\n",
    " 'Genus/species lower zone)',\n",
    " 'Globigerina bulloides',\n",
    " 'Globigerina cf. woodi',\n",
    " 'Globigerina falconensis',\n",
    " 'Globigerina umbilicata',\n",
    " 'Globigerinella aequilateralis',\n",
    " 'Globigerinella calida',\n",
    " 'Globigerinella calida _B',\n",
    " 'Globigerinella calida _B_',\n",
    " 'Globigerinella obesa',\n",
    " 'Globigerinita glutinata',\n",
    " 'Globigerinita parkerae',\n",
    " 'Globigerinita uvula',\n",
    " 'Globigerinoides bulloideus',\n",
    " 'Globigerinoides conglobatus',\n",
    " 'Globigerinoides extremus _T and B',\n",
    " 'Globigerinoides extremus _T and B_',\n",
    " 'Globigerinoides fistulosus',\n",
    " 'Globigerinoides obliquus _T',\n",
    " 'Globigerinoides obliquus _T_',\n",
    " 'Globigerinoides quadrilobatus',\n",
    " 'Globigerinoides ruber',\n",
    " 'Globigerinoides ruber (pink)',\n",
    " 'Globigerinoides ruber (white)',\n",
    " 'Globigerinoides ruber _pink_ T',\n",
    " 'Globigerinoides ruber _pink_ _T_',\n",
    " 'Globigerinoides sacculifer',\n",
    " 'Globigerinoides sacculifer (without sack)',\n",
    " 'Globigerinoides tenellus',\n",
    " 'Globigerinoides trilobus',\n",
    " 'Globigerinoidesella fistulosa _T and B_ _Pt1a',\n",
    " 'Globigerinoidesella fistulosa _T and B_ _Pt1a_',\n",
    " 'Globoconella miozea',\n",
    " 'Globorotalia (Globoconella) inflata',\n",
    " 'Globorotalia (Globorotalia) tumida tumida',\n",
    " 'Globorotalia (Hirsutella) hirsuta',\n",
    " 'Globorotalia (Hirsutella) scitula',\n",
    " 'Globorotalia (Truncorotalia) crossaformis',\n",
    " 'Globorotalia (Truncorotalia) truncatulinoides',\n",
    " 'Globorotalia anfracta',\n",
    " 'Globorotalia crassaformis',\n",
    " 'Globorotalia crassaformis sensu lato',\n",
    " 'Globorotalia flexuosa',\n",
    " 'Globorotalia flexuosa _T and B_',\n",
    " 'Globorotalia hessi',\n",
    " 'Globorotalia hessi _B_',\n",
    " 'Globorotalia hirsuta',\n",
    " 'Globorotalia inflata',\n",
    " 'Globorotalia limbata _B',\n",
    " 'Globorotalia limbata _B_',\n",
    " 'Globorotalia limbata _T_',\n",
    " 'Globorotalia margaritae _T and B_ _PL3',\n",
    " 'Globorotalia margaritae _T and B_ _PL3_',\n",
    " 'Globorotalia menardii',\n",
    " 'Globorotalia multicamerata _T',\n",
    " 'Globorotalia multicamerata _T_',\n",
    " 'Globorotalia plesiotumida _B_ _M13b_',\n",
    " 'Globorotalia plesiotumida _T',\n",
    " 'Globorotalia plesiotumida _T_',\n",
    " 'Globorotalia pseudomiocenica _T_ _PL6',\n",
    " 'Globorotalia pseudomiocenica _T_ _PL6_',\n",
    " 'Globorotalia scitula',\n",
    " 'Globorotalia tosaensis',\n",
    " 'Globorotalia tosaensis _T and B_ _Pt1b',\n",
    " 'Globorotalia tosaensis _T and B_ _Pt1b_',\n",
    " 'Globorotalia truncatulinoides',\n",
    " 'Globorotalia truncatulinoides _B',\n",
    " 'Globorotalia truncatulinoides _B_',\n",
    " 'Globorotalia tumida',\n",
    " 'Globorotalia tumida _B_ _PL1a_',\n",
    " 'Globoturborotalita apertura _T and B',\n",
    " 'Globoturborotalita apertura _T and B_',\n",
    " 'Globoturborotalita decoraperta _T and B',\n",
    " 'Globoturborotalita decoraperta _T and B_',\n",
    " 'Globoturborotalita rubescens',\n",
    " 'Neogloboquadrina acostaensis',\n",
    " 'Neogloboquadrina acostaensis (dextral)',\n",
    " 'Neogloboquadrina cf. pachyderma',\n",
    " 'Neogloboquadrina dutertrei',\n",
    " 'Neogloboquadrina humerosa',\n",
    " 'Neogloboquadrina incompta (dextral)',\n",
    " 'Neogloboquadrina inglei',\n",
    " 'Neogloboquadrina kagaensis',\n",
    " 'Neogloboquadrina nympha',\n",
    " 'Neogloboquadrina pachyderma (dextral)',\n",
    " 'Neogloboquadrina pachyderma (sin)',\n",
    " 'Neogloboquadrina pachyderma (sinistral)',\n",
    " 'Neogloboquadrina pachyderma B (sinistral, inflated form)',\n",
    " 'Neogloboquadrina pachyderma(dex)',\n",
    " 'Orbulina universa',\n",
    " 'Pulleniatina coiling (dextral)',\n",
    " 'Pulleniatina coiling (sinistral)',\n",
    " 'Pulleniatina finalis',\n",
    " 'Pulleniatina finalis _B',\n",
    " 'Pulleniatina finalis _B_',\n",
    " 'Pulleniatina obliquiloculata',\n",
    " 'Pulleniatina obliquiloculata (D)',\n",
    " 'Pulleniatina praecursor',\n",
    " 'Pulleniatina praespectabilis',\n",
    " 'Pulleniatina primalis  _Tand B',\n",
    " 'Pulleniatina primalis  _Tand B_',\n",
    " 'Sphaeroidinella dahiscens sensu lato',\n",
    " 'Sphaeroidinella dehiscens',\n",
    " 'Sphaeroidinella dehiscens s.l.',\n",
    " 'Sphaeroidinella dehiscens sensu lato _B_',\n",
    " 'Sphaeroidinellopsis kochi _T',\n",
    " 'Sphaeroidinellopsis kochi _T_',\n",
    " 'Sphaeroidinellopsis seminulina _T_ _PL4',\n",
    " 'Sphaeroidinellopsis seminulina _T_ _PL4_',\n",
    "}"
   ]
  },
  {
   "cell_type": "code",
   "execution_count": null,
   "metadata": {},
   "outputs": [],
   "source": [
    "len(taxa_columns)"
   ]
  },
  {
   "cell_type": "markdown",
   "metadata": {},
   "source": [
    "Since both `all_columns` and `taxa_columns` are sets, we can subtract them to get the nontaxa headers."
   ]
  },
  {
   "cell_type": "code",
   "execution_count": null,
   "metadata": {},
   "outputs": [],
   "source": [
    "nontaxa_columns = all_columns - taxa_columns\n",
    "\n",
    "nontaxa_columns"
   ]
  },
  {
   "cell_type": "code",
   "execution_count": null,
   "metadata": {},
   "outputs": [],
   "source": [
    "len(nontaxa_columns)"
   ]
  },
  {
   "cell_type": "markdown",
   "metadata": {},
   "source": [
    "### Create taxa and non-taxa files\n",
    "\n",
    "We saved the the taxa and nontaxa headers to csv so that we can further process them."
   ]
  },
  {
   "cell_type": "code",
   "execution_count": null,
   "metadata": {},
   "outputs": [],
   "source": [
    "taxa_df = pd.DataFrame(taxa_columns, columns=['verbatim_name'])\n",
    "taxa_df.sort_values('verbatim_name', inplace=True)\n",
    "taxa_df.to_csv(taxa_list_path, index=False)\n",
    "\n",
    "print_df(taxa_df)"
   ]
  },
  {
   "cell_type": "code",
   "execution_count": null,
   "metadata": {},
   "outputs": [],
   "source": [
    "non_taxa_df = pd.DataFrame(nontaxa_columns, columns=['field'])\n",
    "non_taxa_df.sort_values('field', inplace=True)\n",
    "non_taxa_df.to_csv(nontaxa_list_path, index=False)\n",
    "\n",
    "print_df(non_taxa_df)"
   ]
  },
  {
   "cell_type": "markdown",
   "metadata": {},
   "source": [
    "### Normalize headers"
   ]
  },
  {
   "cell_type": "markdown",
   "metadata": {},
   "source": [
    "The software developer first uploads the taxa and nontaxa CSVs to Google Sheets, then project PIs and their students work together to normalize the original values. The PIs are currently writing a paper with details about the normalization process [4]. "
   ]
  },
  {
   "cell_type": "code",
   "execution_count": null,
   "metadata": {},
   "outputs": [],
   "source": [
    "taxa_df = pd.read_csv(normalized_taxa_path, dtype=str)\n",
    "print_df(taxa_df)"
   ]
  },
  {
   "cell_type": "code",
   "execution_count": null,
   "metadata": {},
   "outputs": [],
   "source": [
    "nontaxa_df = pd.read_csv(normalized_nontaxa_path, dtype=str)\n",
    "print_df(nontaxa_df)"
   ]
  },
  {
   "cell_type": "markdown",
   "metadata": {},
   "source": [
    "After the project PIs manually normalized the columns, we need to update the data files with the normalized columns. Create a dictionary that lists the original field name and normalized field name."
   ]
  },
  {
   "cell_type": "code",
   "execution_count": null,
   "metadata": {},
   "outputs": [],
   "source": [
    "taxa_mapping = taxa_df.set_index('verbatim_name').to_dict()['normalized_name']\n",
    "taxa_mapping"
   ]
  },
  {
   "cell_type": "code",
   "execution_count": null,
   "metadata": {},
   "outputs": [],
   "source": [
    "nontaxa_mapping = nontaxa_df.set_index('field').to_dict()['normalized_field']\n",
    "nontaxa_mapping"
   ]
  },
  {
   "cell_type": "markdown",
   "metadata": {},
   "source": [
    "### Before changing headers"
   ]
  },
  {
   "cell_type": "code",
   "execution_count": null,
   "metadata": {},
   "outputs": [],
   "source": [
    "df = pd.read_csv(paths[8], dtype=str)    \n",
    "df.columns\n"
   ]
  },
  {
   "cell_type": "markdown",
   "metadata": {},
   "source": [
    "### After changing headers\n",
    "\n",
    "`normalize_columns` replaces the original column names with normalized column names. \n",
    "\n",
    "For the nontaxa mapping, 'Label ID' is changed to 'Sample'. For the taxa mapping, 'Neogloboquadrina pachyderma (sin)' is changed to 'Neogloboquadrina pachyderma (sinistral)',  and 'Neogloboquadrina pachyderma(dex)' to 'Neogloboquadrina pachyderma (dextral)'."
   ]
  },
  {
   "cell_type": "code",
   "execution_count": null,
   "metadata": {},
   "outputs": [],
   "source": [
    "df = pd.read_csv(paths[8], dtype=str) \n",
    "normalize_columns(df, taxa_mapping)\n",
    "normalize_columns(df, nontaxa_mapping)\n",
    "\n",
    "df.columns"
   ]
  },
  {
   "cell_type": "markdown",
   "metadata": {},
   "source": [
    "### Change headers for all files and save the changes\n"
   ]
  },
  {
   "cell_type": "code",
   "execution_count": null,
   "metadata": {},
   "outputs": [],
   "source": [
    "for path in paths:\n",
    "    df = pd.read_csv(path, dtype=str)    \n",
    "    \n",
    "    normalize_columns(df, nontaxa_mapping)\n",
    "    normalize_columns(df, taxa_mapping)\n",
    "    \n",
    "    df.to_csv(path, index=False)\n"
   ]
  },
  {
   "cell_type": "markdown",
   "metadata": {},
   "source": [
    "## Turn one column into multiple columns \n",
    "\n",
    "For some files, `Sample` or `Label ID` column was given, but `Exp, Site, Hole, Core, Type, Section, A/W` columns where not given. All those columns should be in every file.\n",
    "\n",
    "`normalize_expedition_section_cols` converts `Sample` or `Label ID` into separate `Exp, Site, Hole, Core, Type, Section, A/W` columns. \n",
    "\n",
    "Sample: 363-U1483A-1H-2-W 75/77-FORAM  \n",
    "Exp: 363, Site: U1483, Hole: A, Core: 1, Type: H, Section: 2, A/W: W"
   ]
  },
  {
   "cell_type": "markdown",
   "metadata": {},
   "source": [
    "### Before cleanup\n",
    "\n",
    "File has `Sample` column, but is missing `Exp, Site, Hole, Core, Type, Section, A/W` columns."
   ]
  },
  {
   "cell_type": "code",
   "execution_count": null,
   "metadata": {},
   "outputs": [],
   "source": [
    "df = pd.read_csv(paths[6], dtype=str)  \n",
    "print_df(df)"
   ]
  },
  {
   "cell_type": "markdown",
   "metadata": {},
   "source": [
    "### After cleanup\n",
    "\n",
    "File has `Sample`,`Exp, Site, Hole, Core, Type, Section, A/W` columns."
   ]
  },
  {
   "cell_type": "code",
   "execution_count": null,
   "metadata": {},
   "outputs": [],
   "source": [
    "df = pd.read_csv(paths[6], dtype=str) \n",
    "df = normalize_expedition_section_cols(df)\n",
    "print_df(df)"
   ]
  },
  {
   "cell_type": "markdown",
   "metadata": {},
   "source": [
    "### Clean up all files and save the changes\n"
   ]
  },
  {
   "cell_type": "code",
   "execution_count": null,
   "metadata": {
    "tags": []
   },
   "outputs": [],
   "source": [
    "for path in paths:\n",
    "    df = pd.read_csv(path, dtype=str)   \n",
    "    \n",
    "    df = normalize_expedition_section_cols(df)\n",
    "    \n",
    "    df.to_csv(path, index=False) "
   ]
  },
  {
   "cell_type": "markdown",
   "metadata": {
    "tags": []
   },
   "source": [
    "## Clean up row values\n",
    "\n",
    "For some of the columns such as taxa, the rows contain abundance data that we want to keep and notes in brackets that we want to remove.  `remove_bracket_text` removes the [note] text."
   ]
  },
  {
   "cell_type": "markdown",
   "metadata": {},
   "source": [
    "### Before cleanup\n",
    "\n",
    "'Globigerina bulloides' and 'Neogloboquadrina cf. pachyderma' have [318_PF]."
   ]
  },
  {
   "cell_type": "code",
   "execution_count": null,
   "metadata": {},
   "outputs": [],
   "source": [
    "df = pd.read_csv(paths[0], dtype=str)    \n",
    "print_df(df)"
   ]
  },
  {
   "cell_type": "markdown",
   "metadata": {},
   "source": [
    "### After cleanup\n",
    "\n",
    "Remove [318_PF] from 'Globigerina bulloides' and 'Neogloboquadrina cf. pachyderma'."
   ]
  },
  {
   "cell_type": "code",
   "execution_count": null,
   "metadata": {},
   "outputs": [],
   "source": [
    "df = pd.read_csv(paths[0], dtype=str) \n",
    "df = remove_bracket_text(df)\n",
    "print_df(df)"
   ]
  },
  {
   "cell_type": "markdown",
   "metadata": {},
   "source": [
    "### Clean up all files and save the changes"
   ]
  },
  {
   "cell_type": "code",
   "execution_count": null,
   "metadata": {},
   "outputs": [],
   "source": [
    "for path in paths:\n",
    "    df = pd.read_csv(path, dtype=str)\n",
    "    \n",
    "    df = remove_bracket_text(df)\n",
    "    \n",
    "    df.to_csv(path, index=False)"
   ]
  },
  {
   "cell_type": "markdown",
   "metadata": {},
   "source": [
    "## Check if required columns exists\n",
    "\n",
    "After we completed the data cleaning steps, we want to check if certain required columns are present in all the data files."
   ]
  },
  {
   "cell_type": "code",
   "execution_count": null,
   "metadata": {},
   "outputs": [],
   "source": [
    "required_columns = {\n",
    " 'A/W',\n",
    " 'Bottom [cm]',\n",
    " 'Bottom Depth [m]',\n",
    " 'Core',\n",
    " 'Exp',\n",
    " 'Hole',\n",
    " 'Sample',\n",
    " 'Section',\n",
    " 'Site',\n",
    " 'Top [cm]',\n",
    " 'Top Depth [m]',\n",
    " 'Type'\n",
    "}"
   ]
  },
  {
   "cell_type": "markdown",
   "metadata": {},
   "source": [
    "If a file is missing some required columns, print the file name and the missing columns."
   ]
  },
  {
   "cell_type": "code",
   "execution_count": null,
   "metadata": {},
   "outputs": [],
   "source": [
    "missing = False\n",
    "\n",
    "for path in paths:\n",
    "    df = pd.read_csv(path, dtype=str)    \n",
    "    cols = set(df.columns)\n",
    "    diff = required_columns - cols\n",
    "    \n",
    "    if(len(diff) > 0):\n",
    "        missing  = True\n",
    "        print(path)\n",
    "        print(required_columns - cols)\n",
    "    \n",
    "if not missing:\n",
    "    print('All files have required columns.')"
   ]
  },
  {
   "cell_type": "markdown",
   "metadata": {},
   "source": [
    "# References\n",
    "\n",
    "1. Extending Ocean Drilling Pursuits website https://eodp.github.io\n",
    "2. Github repo for processing eODP data: https://github.com/eODP/data-processing. Folder for eODP raw data files: https://github.com/eODP/data-processing/tree/master/raw_data/\n",
    "3. The normalized nontaxa and taxa csv were provided by Andrew J. Fraass, Leah J. Levay, and Jocelyn A. Sessa.\n",
    "4. LeVay, Leah; Fraass, Andrew; Peters, Shanan; Sessa, Jocelyn; Kaufman, Seth; Kwan, Wai-Yin. Geologic data standardization for database entry: preparing diverse datasets for hosting and accessibility. EarthCube Annual Meeting. Poster.  \n",
    "5. Sessa, J.A., Levay, L.J., Peters, S.E., Fraass, A.J. The extending Ocean Drilling Pursuits (eODP) project: synthesizing scientific ocean drilling data."
   ]
  },
  {
   "cell_type": "code",
   "execution_count": null,
   "metadata": {},
   "outputs": [],
   "source": []
  }
 ],
 "metadata": {
  "kernelspec": {
   "display_name": "Python 3 (ipykernel)",
   "language": "python",
   "name": "python3"
  },
  "language_info": {
   "codemirror_mode": {
    "name": "ipython",
    "version": 3
   },
   "file_extension": ".py",
   "mimetype": "text/x-python",
   "name": "python",
   "nbconvert_exporter": "python",
   "pygments_lexer": "ipython3",
   "version": "3.10.4"
  },
  "toc": {
   "base_numbering": 1,
   "nav_menu": {},
   "number_sections": true,
   "sideBar": true,
   "skip_h1_title": false,
   "title_cell": "Table of Contents",
   "title_sidebar": "Contents",
   "toc_cell": true,
   "toc_position": {
    "height": "calc(100% - 180px)",
    "left": "10px",
    "top": "150px",
    "width": "248.182px"
   },
   "toc_section_display": true,
   "toc_window_display": false
  }
 },
 "nbformat": 4,
 "nbformat_minor": 4
}
